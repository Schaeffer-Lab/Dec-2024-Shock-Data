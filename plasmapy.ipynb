{
 "cells": [
  {
   "cell_type": "code",
   "execution_count": 1,
   "metadata": {},
   "outputs": [
    {
     "ename": "SyntaxError",
     "evalue": "invalid syntax (1886335266.py, line 1)",
     "output_type": "error",
     "traceback": [
      "\u001b[0;36m  Cell \u001b[0;32mIn[1], line 1\u001b[0;36m\u001b[0m\n\u001b[0;31m    pip install git+https://github.com/bradynklein/ThomsonScattering.git\u001b[0m\n\u001b[0m        ^\u001b[0m\n\u001b[0;31mSyntaxError\u001b[0m\u001b[0;31m:\u001b[0m invalid syntax\n"
     ]
    }
   ],
   "source": [
    "pip install git+https://github.com/bradynklein/ThomsonScattering.git\n",
    "pip install lmfit\n",
    "pip install numba\n",
    "pip install numba_scipy\n",
    "pip install corner\n",
    "pip install emcee==3.0.0\n",
    "pip install numdifftools\n"
   ]
  },
  {
   "cell_type": "code",
   "execution_count": 2,
   "metadata": {},
   "outputs": [
    {
     "ename": "ModuleNotFoundError",
     "evalue": "No module named 'torch'",
     "output_type": "error",
     "traceback": [
      "\u001b[0;31m---------------------------------------------------------------------------\u001b[0m",
      "\u001b[0;31mModuleNotFoundError\u001b[0m                       Traceback (most recent call last)",
      "Cell \u001b[0;32mIn[2], line 6\u001b[0m\n\u001b[1;32m      4\u001b[0m \u001b[38;5;28;01mimport\u001b[39;00m \u001b[38;5;21;01mnumpy\u001b[39;00m \u001b[38;5;28;01mas\u001b[39;00m \u001b[38;5;21;01mnp\u001b[39;00m\n\u001b[1;32m      5\u001b[0m \u001b[38;5;28;01mimport\u001b[39;00m \u001b[38;5;21;01mwarnings\u001b[39;00m\n\u001b[0;32m----> 6\u001b[0m \u001b[38;5;28;01mimport\u001b[39;00m \u001b[38;5;21;01mtorch\u001b[39;00m\n\u001b[1;32m      7\u001b[0m \u001b[38;5;28;01mfrom\u001b[39;00m \u001b[38;5;21;01mlmfit\u001b[39;00m \u001b[38;5;28;01mimport\u001b[39;00m Parameters\n\u001b[1;32m      8\u001b[0m \u001b[38;5;28;01mimport\u001b[39;00m \u001b[38;5;21;01mcorner\u001b[39;00m\n",
      "\u001b[0;31mModuleNotFoundError\u001b[0m: No module named 'torch'"
     ]
    }
   ],
   "source": [
    "%matplotlib inline\n",
    "import astropy.units as u\n",
    "import matplotlib.pyplot as plt\n",
    "import numpy as np\n",
    "import warnings\n",
    "import torch\n",
    "from lmfit import Parameters\n",
    "import corner\n",
    "import emcee\n",
    "from plasmapy.diagnostics import thomson\n",
    "from plasmapy.diagnostics import thomson_torch\n",
    "from plasmapy.formulary import Maxwellian_1D\n",
    "import matplotlib.pyplot as plt\n",
    "import astropy.constants as const\n",
    "from scipy.special import expit, gamma\n",
    "import h5py"
   ]
  },
  {
   "cell_type": "code",
   "execution_count": 3,
   "metadata": {},
   "outputs": [
    {
     "ename": "NameError",
     "evalue": "name 'thomson' is not defined",
     "output_type": "error",
     "traceback": [
      "\u001b[0;31m---------------------------------------------------------------------------\u001b[0m",
      "\u001b[0;31mNameError\u001b[0m                                 Traceback (most recent call last)",
      "Cell \u001b[0;32mIn[3], line 1\u001b[0m\n\u001b[0;32m----> 1\u001b[0m alpha, epw_Pw_in \u001b[38;5;241m=\u001b[39m thomson\u001b[38;5;241m.\u001b[39mspectral_density_arbdist(\n\u001b[1;32m      2\u001b[0m     wavelengths \u001b[38;5;241m=\u001b[39m epw_wavelengths,\n\u001b[1;32m      3\u001b[0m     notches \u001b[38;5;241m=\u001b[39m [notch] \u001b[38;5;241m*\u001b[39m u\u001b[38;5;241m.\u001b[39mnm,\n\u001b[1;32m      4\u001b[0m     probe_wavelength \u001b[38;5;241m=\u001b[39m probe_wavelength,\n\u001b[1;32m      5\u001b[0m     e_velocity_axes \u001b[38;5;241m=\u001b[39m [ve] \u001b[38;5;241m*\u001b[39m u\u001b[38;5;241m.\u001b[39mm \u001b[38;5;241m/\u001b[39m u\u001b[38;5;241m.\u001b[39ms,\n\u001b[1;32m      6\u001b[0m     i_velocity_axes \u001b[38;5;241m=\u001b[39m [vH] \u001b[38;5;241m*\u001b[39m u\u001b[38;5;241m.\u001b[39mm \u001b[38;5;241m/\u001b[39m u\u001b[38;5;241m.\u001b[39ms,\n\u001b[1;32m      7\u001b[0m     efn \u001b[38;5;241m=\u001b[39m [fe_in] \u001b[38;5;241m*\u001b[39m u\u001b[38;5;241m.\u001b[39ms \u001b[38;5;241m/\u001b[39m u\u001b[38;5;241m.\u001b[39mm,\n\u001b[1;32m      8\u001b[0m     ifn \u001b[38;5;241m=\u001b[39m [fH_in] \u001b[38;5;241m*\u001b[39m u\u001b[38;5;241m.\u001b[39ms \u001b[38;5;241m/\u001b[39m u\u001b[38;5;241m.\u001b[39mm,\n\u001b[1;32m      9\u001b[0m     n \u001b[38;5;241m=\u001b[39m n \u001b[38;5;241m*\u001b[39m u\u001b[38;5;241m.\u001b[39mcm \u001b[38;5;241m*\u001b[39m\u001b[38;5;241m*\u001b[39m \u001b[38;5;241m-\u001b[39m\u001b[38;5;241m3\u001b[39m,\n\u001b[1;32m     10\u001b[0m     scattered_power \u001b[38;5;241m=\u001b[39m \u001b[38;5;28;01mTrue\u001b[39;00m,\n\u001b[1;32m     11\u001b[0m     ion_species \u001b[38;5;241m=\u001b[39m [\u001b[38;5;124m'\u001b[39m\u001b[38;5;124mp\u001b[39m\u001b[38;5;124m'\u001b[39m]\n\u001b[1;32m     12\u001b[0m )\n",
      "\u001b[0;31mNameError\u001b[0m: name 'thomson' is not defined"
     ]
    }
   ],
   "source": [
    "alpha, epw_Pw_in = thomson.spectral_density_arbdist(\n",
    "    wavelengths = epw_wavelengths,\n",
    "    notches = [notch] * u.nm,\n",
    "    probe_wavelength = probe_wavelength,\n",
    "    e_velocity_axes = [ve] * u.m / u.s,\n",
    "    i_velocity_axes = [vH] * u.m / u.s,\n",
    "    efn = [fe_in] * u.s / u.m,\n",
    "    ifn = [fH_in] * u.s / u.m,\n",
    "    n = n * u.cm ** -3,\n",
    "    scattered_power = True,\n",
    "    ion_species = ['p']\n",
    ")"
   ]
  },
  {
   "cell_type": "code",
   "execution_count": null,
   "metadata": {},
   "outputs": [],
   "source": []
  }
 ],
 "metadata": {
  "kernelspec": {
   "display_name": "base",
   "language": "python",
   "name": "python3"
  },
  "language_info": {
   "codemirror_mode": {
    "name": "ipython",
    "version": 3
   },
   "file_extension": ".py",
   "mimetype": "text/x-python",
   "name": "python",
   "nbconvert_exporter": "python",
   "pygments_lexer": "ipython3",
   "version": "3.11.7"
  }
 },
 "nbformat": 4,
 "nbformat_minor": 2
}
